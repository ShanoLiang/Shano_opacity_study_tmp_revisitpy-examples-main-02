{
 "cells": [
  {
   "cell_type": "markdown",
   "metadata": {},
   "source": [
    "# Simple HTML Study\n",
    "\n",
    "Here we will get familiar with the syntax of the reVISitPy package. To do this, we'll recreate the config for the simple html study [here](https://github.com/revisit-studies/study/blob/main/public/demo-html-input/config.json). We'll start by first creating the study metadata and the UI configuration."
   ]
  },
  {
   "cell_type": "code",
   "execution_count": 7,
   "metadata": {},
   "outputs": [],
   "source": [
    "import revisitpy as rvt\n",
    "\n",
    "study_metadata = rvt.studyMetadata(\n",
    "    title='Passing Data From reVISit to HTML and back',\n",
    "    version='pilot',\n",
    "    authors=[\n",
    "        'The reVISit Team',\n",
    "        'reVISitPy'\n",
    "    ],\n",
    "    date='2025-01-20',\n",
    "    description=\"A demo of how to pass visualization data from reVISit to HTML and send user answers from HTML back to the reVISit.\",\n",
    "    organizations=[\n",
    "        \"University of Utah\",\n",
    "        \"WPI\",\n",
    "        \"University of Toronto\"\n",
    "    ]\n",
    ")\n",
    "\n",
    "ui_config = rvt.uiConfig(\n",
    "    contactEmail=\"contact@revisit.dev\",\n",
    "    helpTextPath=\"./assets/help.md\",\n",
    "    logoPath=\"./assets/revisitLogoSquare.svg\",\n",
    "    withProgressBar=True,\n",
    "    autoDownloadStudy=False,\n",
    "    autoDownloadTime=5000,\n",
    "    sidebar=False\n",
    ")"
   ]
  },
  {
   "cell_type": "markdown",
   "metadata": {},
   "source": [
    "# Creating Response and Base Components\n",
    "\n",
    "Next we'll create the response and the base component that we will be using. Note that in the reVISitPy package, the base components work in a slightly different way. Instead of directly adjusting the `\"baseComponent\"` top level key in the configuration file, the inheritance is handled directly in the library. So, when you inspect a component that has a base, the component will already have all the appropriate properties from the base. Similar to the config, however, a base component in `revisitpy` is defined in the same exact way as a regular component."
   ]
  },
  {
   "cell_type": "code",
   "execution_count": 8,
   "metadata": {},
   "outputs": [],
   "source": [
    "response_one = rvt.response(\n",
    "    id='barChart',\n",
    "    prompt='Your selected answer:',\n",
    "    location='belowStimulus',\n",
    "    type='reactive',\n",
    "    required=True\n",
    ")\n",
    "\n",
    "base_component = rvt.component(\n",
    "    component_name__='bar-chart',\n",
    "    type='website',\n",
    "    response=[response_one],\n",
    "    path=\"./assets/bar-chart-interaction.html\",\n",
    "    instructionLocation='aboveStimulus'\n",
    ")"
   ]
  },
  {
   "cell_type": "markdown",
   "metadata": {},
   "source": [
    "# Generating the regular components\n",
    "\n",
    "Since we have the base components set up, we can create our two other components which both inherit these bases."
   ]
  },
  {
   "cell_type": "code",
   "execution_count": 9,
   "metadata": {},
   "outputs": [],
   "source": [
    "# No need to define the response in this component since it will automatically be initialized as empty.\n",
    "introduction = rvt.component(\n",
    "    component_name__='introduction',\n",
    "    type='markdown',\n",
    "    path='./assets/introduction.md' # <--- Relative path to asset from this notebook\n",
    ")\n",
    "\n",
    "comp_one = rvt.component(\n",
    "    base__=base_component,\n",
    "    component_name__='bar-chart-1',\n",
    "    description=\"A trial for the user to click the largest bar\",\n",
    "    instruction='Click on the largest bar',\n",
    "    parameters={\n",
    "        \"barData\": [\n",
    "            0.32,\n",
    "            0.01,\n",
    "            1.2,\n",
    "            1.3,\n",
    "            0.82,\n",
    "            0.4,\n",
    "            0.3\n",
    "        ]\n",
    "    }\n",
    ")\n",
    "\n",
    "comp_two = rvt.component(\n",
    "    base__=base_component,\n",
    "    component_name__='bar-chart-2',\n",
    "    description=\"A trial for the user to click the smallest bar\",\n",
    "    instruction='Click on the smallest bar',\n",
    "    parameters={\n",
    "        \"barData\": [\n",
    "            1.2,\n",
    "            1.2,\n",
    "            1.2,\n",
    "            1.3,\n",
    "            0.82,\n",
    "            0.4,\n",
    "            0.3\n",
    "        ]\n",
    "    }\n",
    ")"
   ]
  },
  {
   "cell_type": "markdown",
   "metadata": {},
   "source": [
    "# Generate The Sequence and Final Config\n",
    "\n",
    "Now that all the individual pieces are created, we'll create the sequence and then the final configuration file."
   ]
  },
  {
   "cell_type": "code",
   "execution_count": 10,
   "metadata": {},
   "outputs": [
    {
     "name": "stdout",
     "output_type": "stream",
     "text": [
      "{\n",
      "    \"$schema\": \"https://raw.githubusercontent.com/revisit-studies/study/2.0.0-rc7/src/parser/StudyConfigSchema.json\",\n",
      "    \"components\": {\n",
      "        \"introduction\": {\n",
      "            \"path\": \"./assets/introduction.md\",\n",
      "            \"response\": [],\n",
      "            \"type\": \"markdown\"\n",
      "        },\n",
      "        \"bar-chart-1\": {\n",
      "            \"description\": \"A trial for the user to click the largest bar\",\n",
      "            \"instruction\": \"Click on the largest bar\",\n",
      "            \"instructionLocation\": \"aboveStimulus\",\n",
      "            \"parameters\": {\n",
      "                \"barData\": [\n",
      "                    0.32,\n",
      "                    0.01,\n",
      "                    1.2,\n",
      "                    1.3,\n",
      "                    0.82,\n",
      "                    0.4,\n",
      "                    0.3\n",
      "                ]\n",
      "            },\n",
      "            \"path\": \"./assets/bar-chart-interaction.html\",\n",
      "            \"response\": [\n",
      "                {\n",
      "                    \"id\": \"barChart\",\n",
      "                    \"location\": \"belowStimulus\",\n",
      "                    \"prompt\": \"Your selected answer:\",\n",
      "                    \"required\": true,\n",
      "                    \"type\": \"reactive\"\n",
      "                }\n",
      "            ],\n",
      "            \"type\": \"website\"\n",
      "        },\n",
      "        \"bar-chart-2\": {\n",
      "            \"description\": \"A trial for the user to click the smallest bar\",\n",
      "            \"instruction\": \"Click on the smallest bar\",\n",
      "            \"instructionLocation\": \"aboveStimulus\",\n",
      "            \"parameters\": {\n",
      "                \"barData\": [\n",
      "                    1.2,\n",
      "                    1.2,\n",
      "                    1.2,\n",
      "                    1.3,\n",
      "                    0.82,\n",
      "                    0.4,\n",
      "                    0.3\n",
      "                ]\n",
      "            },\n",
      "            \"path\": \"./assets/bar-chart-interaction.html\",\n",
      "            \"response\": [\n",
      "                {\n",
      "                    \"id\": \"barChart\",\n",
      "                    \"location\": \"belowStimulus\",\n",
      "                    \"prompt\": \"Your selected answer:\",\n",
      "                    \"required\": true,\n",
      "                    \"type\": \"reactive\"\n",
      "                }\n",
      "            ],\n",
      "            \"type\": \"website\"\n",
      "        }\n",
      "    },\n",
      "    \"sequence\": {\n",
      "        \"components\": [\n",
      "            \"introduction\",\n",
      "            \"bar-chart-1\",\n",
      "            \"bar-chart-2\"\n",
      "        ],\n",
      "        \"order\": \"fixed\"\n",
      "    },\n",
      "    \"studyMetadata\": {\n",
      "        \"authors\": [\n",
      "            \"The reVISit Team\",\n",
      "            \"reVISitPy\"\n",
      "        ],\n",
      "        \"date\": \"2025-01-20\",\n",
      "        \"description\": \"A demo of how to pass visualization data from reVISit to HTML and send user answers from HTML back to the reVISit.\",\n",
      "        \"organizations\": [\n",
      "            \"University of Utah\",\n",
      "            \"WPI\",\n",
      "            \"University of Toronto\"\n",
      "        ],\n",
      "        \"title\": \"Passing Data From reVISit to HTML and back\",\n",
      "        \"version\": \"pilot\"\n",
      "    },\n",
      "    \"uiConfig\": {\n",
      "        \"autoDownloadStudy\": false,\n",
      "        \"autoDownloadTime\": 5000.0,\n",
      "        \"contactEmail\": \"contact@revisit.dev\",\n",
      "        \"helpTextPath\": \"./assets/help.md\",\n",
      "        \"logoPath\": \"./assets/revisitLogoSquare.svg\",\n",
      "        \"sidebar\": false,\n",
      "        \"withProgressBar\": true\n",
      "    }\n",
      "}\n"
     ]
    }
   ],
   "source": [
    "sequence = rvt.sequence(\n",
    "    order='fixed',\n",
    "    components=[\n",
    "        introduction,\n",
    "        comp_one,\n",
    "        comp_two\n",
    "    ]\n",
    ")\n",
    "\n",
    "# Adding 'components' directly is not necessary since they are already defined in the original sequence.\n",
    "study = rvt.studyConfig(\n",
    "    schema='https://raw.githubusercontent.com/revisit-studies/study/v2.0.0/src/parser/StudyConfigSchema.json',\n",
    "    uiConfig=ui_config,\n",
    "    studyMetadata=study_metadata,\n",
    "    sequence=sequence\n",
    ")\n",
    "\n",
    "print(study)"
   ]
  },
  {
   "cell_type": "markdown",
   "metadata": {},
   "source": [
    "# Visualizing the Study\n",
    "\n",
    "Now that we have the study completed, let's use the widget to visualize this. We'll start by using the `revisitpy_server` package to run a local copy of the reVISit repo.\n",
    "\n",
    "## Running the Server\n",
    "\n",
    "Simply import the `revisitpy_server` package and call `rs.serve()`. We set the return value of `rs.serve()` to `process` so that we can terminate the process afterwards if desired."
   ]
  },
  {
   "cell_type": "code",
   "execution_count": 11,
   "metadata": {},
   "outputs": [
    {
     "name": "stdout",
     "output_type": "stream",
     "text": [
      "Server is running in the background at http://localhost:8080\n"
     ]
    }
   ],
   "source": [
    "import revisitpy_server as rs\n",
    "\n",
    "process = rs.serve()"
   ]
  },
  {
   "cell_type": "markdown",
   "metadata": {},
   "source": [
    "## Launching The Widget\n",
    "\n",
    "Launching the widget is also straightforward -- especially when using the `revisitpy_server` package."
   ]
  },
  {
   "cell_type": "code",
   "execution_count": 12,
   "metadata": {},
   "outputs": [
    {
     "name": "stdout",
     "output_type": "stream",
     "text": [
      "Copying file from ./assets/introduction.md to /Users/bbollen23/revisit-py-examples/.venv/lib/python3.12/site-packages/revisitpy_server/static/__revisit-widget/assets/introduction.md\n",
      "Copying file from ./assets/bar-chart-interaction.html to /Users/bbollen23/revisit-py-examples/.venv/lib/python3.12/site-packages/revisitpy_server/static/__revisit-widget/assets/bar-chart-interaction.html\n",
      "Copying file from ./assets/bar-chart-interaction.html to /Users/bbollen23/revisit-py-examples/.venv/lib/python3.12/site-packages/revisitpy_server/static/__revisit-widget/assets/bar-chart-interaction.html\n",
      "Copying file from ./assets/help.md to /Users/bbollen23/revisit-py-examples/.venv/lib/python3.12/site-packages/revisitpy_server/static/__revisit-widget/assets/help.md\n",
      "Copying file from ./assets/revisitLogoSquare.svg to /Users/bbollen23/revisit-py-examples/.venv/lib/python3.12/site-packages/revisitpy_server/static/__revisit-widget/assets/revisitLogoSquare.svg\n"
     ]
    }
   ],
   "source": [
    "w = rvt.widget(study, server=True)\n",
    "# In your own Jupyter notebook, calling `w` will now display the widget in a fully interactive manner.\n",
    "# w"
   ]
  }
 ],
 "metadata": {
  "kernelspec": {
   "display_name": ".venv",
   "language": "python",
   "name": "python3"
  },
  "language_info": {
   "codemirror_mode": {
    "name": "ipython",
    "version": 3
   },
   "file_extension": ".py",
   "mimetype": "text/x-python",
   "name": "python",
   "nbconvert_exporter": "python",
   "pygments_lexer": "ipython3",
   "version": "3.12.5"
  }
 },
 "nbformat": 4,
 "nbformat_minor": 2
}
