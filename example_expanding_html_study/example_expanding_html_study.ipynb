{
 "cells": [
  {
   "cell_type": "markdown",
   "metadata": {},
   "source": [
    "# Enhancing The Simple HTML Study\n",
    "\n",
    "In the previous example, we went over creating the configuration file shown [here](https://github.com/revisit-studies/study/blob/main/public/demo-html-input/config.json). While that example is still a valid use case for the `revisitpy` package, this may be a configuration that is simpler to write in standard JSON. In this example, we'll go over a use case which more readily requires the `revisitpy` package.\n",
    "\n",
    "Instead of defining the data for each bar chart directly in the python notebook, suppose we have a CSV file which contains the data for each bar chart. Depending on your specific needs, you may be generating data in R or some other separate Python environment. In these cases, it is extremely useful to have a seamless way to convert raw data into well-defined reVISit components.\n",
    "\n",
    "Rather than copy this data over into our jupyter notebook, we will use the built-in `data` function to first import the CSV file and then generate components from the data set using the `Sequence` class's `from_data` method.\n",
    "\n",
    "## Using the Data Parser and `from_data` method\n",
    "\n",
    "We load in the data using the built-in `data` function. This will generate a list of `DataRows` classes. We can then pass this directly into the `from_data` method of the sequence we create."
   ]
  },
  {
   "cell_type": "code",
   "execution_count": 1,
   "metadata": {},
   "outputs": [
    {
     "name": "stdout",
     "output_type": "stream",
     "text": [
      "------- Sequence --------\n",
      "{\n",
      "    \"components\": [\n",
      "        \"place-holder-component_id:1_b1:0.32_b2:0.01_b3:1.2_b4:1.3_b5:0.82_b6:0.4_b7:0.3\",\n",
      "        \"place-holder-component_id:2_b1:1.2_b2:1.2_b3:1.2_b4:1.3_b5:0.82_b6:0.4_b7:0.3\",\n",
      "        \"place-holder-component_id:3_b1:0.6_b2:1.1_b3:0.7_b4:0.74_b5:1.3_b6:0.1_b7:0.9\",\n",
      "        \"place-holder-component_id:4_b1:1.3_b2:1.1_b3:1.3_b4:0.64_b5:0.31_b6:0.2_b7:0.8\",\n",
      "        \"place-holder-component_id:5_b1:0.1_b2:0.1_b3:0.3_b4:0.4_b5:0.5_b6:1.1_b7:0.2\",\n",
      "        \"place-holder-component_id:6_b1:0.3_b2:1.1_b3:0.65_b4:0.77_b5:0.4_b6:1.3_b7:1.1\"\n",
      "    ],\n",
      "    \"order\": \"random\"\n",
      "}\n",
      "------- Individual Component -------\n",
      "{\n",
      "    \"meta\": {\n",
      "        \"id\": 1,\n",
      "        \"b1\": 0.32,\n",
      "        \"b2\": 0.01,\n",
      "        \"b3\": 1.2,\n",
      "        \"b4\": 1.3,\n",
      "        \"b5\": 0.82,\n",
      "        \"b6\": 0.4,\n",
      "        \"b7\": 0.3\n",
      "    },\n",
      "    \"response\": [],\n",
      "    \"type\": \"questionnaire\"\n",
      "}\n"
     ]
    }
   ],
   "source": [
    "import revisitpy as rvt\n",
    "\n",
    "# Import the data using the build in data parser.\n",
    "study_data = rvt.data('./assets/data.csv')\n",
    "\n",
    "# Generate a single component for each element of the dataset.\n",
    "data_sequence = rvt.sequence(order='random').from_data(study_data)\n",
    "\n",
    "print('------- Sequence --------')\n",
    "print(data_sequence)\n",
    "\n",
    "print('------- Individual Component -------')\n",
    "print(data_sequence.get_components()[0])"
   ]
  },
  {
   "cell_type": "markdown",
   "metadata": {},
   "source": [
    "## Transforming The Components\n",
    "\n",
    "Notice that each component in this sequence we created is not the website component that we'd like. Instead, these are \"filler components\". The idea of the `from_data` method (or the similarly designed `permute` method) is to generate the _structure_ of the sequence. This method applies each of the data rows to the `meta` attribute of the components. These attributes will be printed out when inspecting the JSON and will appear in the final config. However, in general, the `meta` attribute does not have any tangible effect on the resulting component. This `meta` attribute is used when transforming these filler components into our desired components. Below we inspect the `meta` attribute of the first component in the sequence."
   ]
  },
  {
   "cell_type": "code",
   "execution_count": 2,
   "metadata": {},
   "outputs": [
    {
     "name": "stdout",
     "output_type": "stream",
     "text": [
      "{'id': 1, 'b1': 0.32, 'b2': 0.01, 'b3': 1.2, 'b4': 1.3, 'b5': 0.82, 'b6': 0.4, 'b7': 0.3}\n"
     ]
    }
   ],
   "source": [
    "print(data_sequence.get_components()[0].get('meta'))"
   ]
  },
  {
   "cell_type": "markdown",
   "metadata": {},
   "source": [
    "Now that we've verified that the metadata attributes are correctly applied to the components, lets transform these filler components to the components we'd like. We start by creating a \"component function\""
   ]
  },
  {
   "cell_type": "code",
   "execution_count": 3,
   "metadata": {},
   "outputs": [],
   "source": [
    "# Define the response and the base component.\n",
    "\n",
    "response_one = rvt.response(\n",
    "    id='barChart',\n",
    "    prompt='Your selected answer:',\n",
    "    location='belowStimulus',\n",
    "    type='reactive',\n",
    "    required=True\n",
    ")\n",
    "\n",
    "base_component = rvt.component(\n",
    "    component_name__='bar-chart',\n",
    "    type='website',\n",
    "    response=[response_one],\n",
    "    path=\"./assets/bar-chart-interaction.html\",\n",
    "    instructionLocation='aboveStimulus'\n",
    ")\n",
    "\n",
    "def bar_chart_component_function(id, b1, b2, b3, b4, b5, b6, b7):\n",
    "    # Toggle between 'largest' and 'smallest' depending on \n",
    "    # if the original ID is an odd or even number.\n",
    "    largest_smallest_string = 'smallest' if id % 2 == 0 else 'largest'\n",
    "    \n",
    "    comp = rvt.component(\n",
    "        base__=base_component,\n",
    "        component_name__=f'bar-chart-{id}',\n",
    "        description=f\"A trial for the user to click the {largest_smallest_string} bar\",\n",
    "        instruction=f'Click on the {largest_smallest_string} bar',\n",
    "        parameters={\n",
    "            \"barData\": [b1, b2, b3, b4, b5, b6, b7]\n",
    "        }\n",
    "    )\n",
    "    \n",
    "    # Always return a component in our component functions.\n",
    "    return comp"
   ]
  },
  {
   "cell_type": "markdown",
   "metadata": {},
   "source": [
    "The component function defined above has the headers of the CSV file as the parameters to the function. When we use this component function, the `meta` attributes of each filler component will be passed into as arguments to this function and return the resulting component to overwrite the filler component. \n",
    "\n",
    "Optionally, we could define this component function with the single parameter `**kwargs`. This will ensure that any argument in the metadata attributes can be passed into the function. However, this would then require you to use syntax like `kwargs.get('b1')` instead of just `b1`. You should consider these options when designing your component function based on your specific needs.\n",
    "\n",
    "If the component function fails to create the component, the operation will not totally fail. Instead, the original filler component will remain in its place.\n",
    "\n",
    "Now that we have the function defined, the transformation is simple:"
   ]
  },
  {
   "cell_type": "code",
   "execution_count": 4,
   "metadata": {},
   "outputs": [
    {
     "name": "stdout",
     "output_type": "stream",
     "text": [
      "{\n",
      "    \"components\": [\n",
      "        \"bar-chart-6\",\n",
      "        \"bar-chart-5\",\n",
      "        \"bar-chart-4\",\n",
      "        \"bar-chart-3\",\n",
      "        \"bar-chart-2\",\n",
      "        \"bar-chart-1\"\n",
      "    ],\n",
      "    \"order\": \"random\"\n",
      "}\n",
      "{\n",
      "    \"description\": \"A trial for the user to click the smallest bar\",\n",
      "    \"instruction\": \"Click on the smallest bar\",\n",
      "    \"instructionLocation\": \"aboveStimulus\",\n",
      "    \"parameters\": {\n",
      "        \"barData\": [\n",
      "            0.3,\n",
      "            1.1,\n",
      "            0.65,\n",
      "            0.77,\n",
      "            0.4,\n",
      "            1.3,\n",
      "            1.1\n",
      "        ]\n",
      "    },\n",
      "    \"path\": \"./assets/bar-chart-interaction.html\",\n",
      "    \"response\": [\n",
      "        {\n",
      "            \"id\": \"barChart\",\n",
      "            \"location\": \"belowStimulus\",\n",
      "            \"prompt\": \"Your selected answer:\",\n",
      "            \"required\": true,\n",
      "            \"type\": \"reactive\"\n",
      "        }\n",
      "    ],\n",
      "    \"type\": \"website\"\n",
      "}\n"
     ]
    }
   ],
   "source": [
    "data_sequence.component(bar_chart_component_function)\n",
    "\n",
    "print(data_sequence)\n",
    "print(data_sequence.get_components()[0])"
   ]
  },
  {
   "cell_type": "markdown",
   "metadata": {},
   "source": [
    "## Creating the Final Sequence\n",
    "\n",
    "Now that we have the new sequence we created, let's redefine our study config and the inputted sequence."
   ]
  },
  {
   "cell_type": "code",
   "execution_count": 5,
   "metadata": {},
   "outputs": [
    {
     "name": "stdout",
     "output_type": "stream",
     "text": [
      "{\n",
      "    \"components\": [\n",
      "        \"introduction\",\n",
      "        {\n",
      "            \"components\": [\n",
      "                \"bar-chart-6\",\n",
      "                \"bar-chart-5\",\n",
      "                \"bar-chart-4\",\n",
      "                \"bar-chart-3\",\n",
      "                \"bar-chart-2\",\n",
      "                \"bar-chart-1\"\n",
      "            ],\n",
      "            \"order\": \"random\"\n",
      "        }\n",
      "    ],\n",
      "    \"order\": \"fixed\"\n",
      "}\n"
     ]
    }
   ],
   "source": [
    "\n",
    "introduction = rvt.component(\n",
    "    component_name__='introduction',\n",
    "    type='markdown',\n",
    "    path='./assets/introduction.md' # <--- Relative path to asset from this notebook\n",
    ")\n",
    "\n",
    "sequence = rvt.sequence(order='fixed', components=[introduction]) + data_sequence\n",
    "\n",
    "print(sequence)\n",
    "\n",
    "study_metadata = rvt.studyMetadata(\n",
    "    title='Passing Data From reVISit to HTML and back',\n",
    "    version='pilot',\n",
    "    authors=[\n",
    "        'The reVISit Team',\n",
    "        'reVISitPy'\n",
    "    ],\n",
    "    date='2025-01-20',\n",
    "    description=\"A demo of how to pass visualization data from reVISit to HTML and send user answers from HTML back to the reVISit.\",\n",
    "    organizations=[\n",
    "        \"University of Utah\",\n",
    "        \"WPI\",\n",
    "        \"University of Toronto\"\n",
    "    ]\n",
    ")\n",
    "\n",
    "ui_config = rvt.uiConfig(\n",
    "    contactEmail=\"contact@revisit.dev\",\n",
    "    helpTextPath=\"./assets/help.md\",\n",
    "    logoPath=\"./assets/revisitLogoSquare.svg\",\n",
    "    withProgressBar=True,\n",
    "    autoDownloadStudy=False,\n",
    "    autoDownloadTime=5000,\n",
    "    sidebar=False\n",
    ")\n",
    "\n",
    "study = rvt.studyConfig(\n",
    "    schema='https://raw.githubusercontent.com/revisit-studies/study/v2.0.0/src/parser/StudyConfigSchema.json',\n",
    "    uiConfig=ui_config,\n",
    "    studyMetadata=study_metadata,\n",
    "    sequence=sequence\n",
    ")"
   ]
  },
  {
   "cell_type": "markdown",
   "metadata": {},
   "source": [
    "Finally, lets preview this in our widget."
   ]
  },
  {
   "cell_type": "code",
   "execution_count": 12,
   "metadata": {},
   "outputs": [
    {
     "name": "stdout",
     "output_type": "stream",
     "text": [
      "Server is running in the background at http://localhost:8080\n",
      "Copying file from ./assets/introduction.md to /Users/bbollen23/revisit-py-examples/.venv/lib/python3.12/site-packages/revisitpy_server/static/__revisit-widget/assets/introduction.md\n",
      "Copying file from ./assets/bar-chart-interaction.html to /Users/bbollen23/revisit-py-examples/.venv/lib/python3.12/site-packages/revisitpy_server/static/__revisit-widget/assets/bar-chart-interaction.html\n",
      "Copying file from ./assets/bar-chart-interaction.html to /Users/bbollen23/revisit-py-examples/.venv/lib/python3.12/site-packages/revisitpy_server/static/__revisit-widget/assets/bar-chart-interaction.html\n",
      "Copying file from ./assets/bar-chart-interaction.html to /Users/bbollen23/revisit-py-examples/.venv/lib/python3.12/site-packages/revisitpy_server/static/__revisit-widget/assets/bar-chart-interaction.html\n",
      "Copying file from ./assets/bar-chart-interaction.html to /Users/bbollen23/revisit-py-examples/.venv/lib/python3.12/site-packages/revisitpy_server/static/__revisit-widget/assets/bar-chart-interaction.html\n",
      "Copying file from ./assets/bar-chart-interaction.html to /Users/bbollen23/revisit-py-examples/.venv/lib/python3.12/site-packages/revisitpy_server/static/__revisit-widget/assets/bar-chart-interaction.html\n",
      "Copying file from ./assets/bar-chart-interaction.html to /Users/bbollen23/revisit-py-examples/.venv/lib/python3.12/site-packages/revisitpy_server/static/__revisit-widget/assets/bar-chart-interaction.html\n",
      "Copying file from ./assets/help.md to /Users/bbollen23/revisit-py-examples/.venv/lib/python3.12/site-packages/revisitpy_server/static/__revisit-widget/assets/help.md\n",
      "Copying file from ./assets/revisitLogoSquare.svg to /Users/bbollen23/revisit-py-examples/.venv/lib/python3.12/site-packages/revisitpy_server/static/__revisit-widget/assets/revisitLogoSquare.svg\n"
     ]
    }
   ],
   "source": [
    "import revisitpy_server as rs\n",
    "\n",
    "process = rs.serve()\n",
    "\n",
    "w = rvt.widget(study, server=True)\n",
    "\n",
    "# In your own Jupyter notebook, calling `w` will now display the widget in a fully interactive manner.\n",
    "# w"
   ]
  }
 ],
 "metadata": {
  "kernelspec": {
   "display_name": ".venv",
   "language": "python",
   "name": "python3"
  },
  "language_info": {
   "codemirror_mode": {
    "name": "ipython",
    "version": 3
   },
   "file_extension": ".py",
   "mimetype": "text/x-python",
   "name": "python",
   "nbconvert_exporter": "python",
   "pygments_lexer": "ipython3",
   "version": "3.12.5"
  }
 },
 "nbformat": 4,
 "nbformat_minor": 2
}
