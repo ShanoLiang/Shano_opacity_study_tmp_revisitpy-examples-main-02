{
 "cells": [
  {
   "cell_type": "markdown",
   "metadata": {},
   "source": [
    "# Correlation Visualization JND Example Study\n",
    "\n",
    "In this example, we'll create a full two-alternative forced choice (2AFC) study for visualizations of correlated data (from [1]), using vega components. We'll use numpy and scipy to generate a dataset, pandas to create a well-structured data frame, and the `revisitpy` package to tie it all together.\n",
    "\n",
    "You'll see that we have a section which uses the `revisitpy` Widget. This widget is a fully interactive jupyter notebook widget which allows us to preview the created study directly in the notebook. You'll notice that we also utilize the `revisitpy_server` package. This is to simplify the process of viewing our widget. Specifically, it removes the requirement of having a version of the reVISit repository running locally on your computer.\n",
    "\n",
    "[1] Harrison, Lane, Fumeng Yang, Steven Franconeri, and Remco Chang. \"Ranking visualizations of correlation using weber's law.\" IEEE transactions on visualization and computer graphics 20, no. 12 (2014): 1943-1952.\n",
    "\n",
    "We'll start by defining the basic structure of the study:"
   ]
  },
  {
   "cell_type": "code",
   "execution_count": 1,
   "metadata": {},
   "outputs": [
    {
     "name": "stdout",
     "output_type": "stream",
     "text": [
      "{\n",
      "    \"path\": \"./assets/introduction.md\",\n",
      "    \"response\": [],\n",
      "    \"type\": \"markdown\"\n",
      "}\n"
     ]
    }
   ],
   "source": [
    "\n",
    "import revisitpy as rvt\n",
    "\n",
    "# Meta Data\n",
    "study_metadata = rvt.studyMetadata(\n",
    "    authors=[\"Brian Bollen\"],\n",
    "    organizations=[\"Visualization Design Lab\"],\n",
    "    title='Correlation Judgment Study',\n",
    "    description='',\n",
    "    date='2025-01-13',\n",
    "    version='1.0'\n",
    ")\n",
    "\n",
    "\n",
    "# UI Config\n",
    "ui_config = rvt.uiConfig(\n",
    "  contactEmail=\"briancbollen@gmail.com\",\n",
    "  logoPath=\"./assets/revisitLogoSquare.svg\",\n",
    "  sidebar=True,\n",
    "  withProgressBar=False,\n",
    "  nextOnEnter=True\n",
    ")\n",
    "\n",
    "# Introduction\n",
    "introduction = rvt.component(type='markdown', path='./assets/introduction.md', component_name__= 'introduction')\n",
    "\n",
    "# Snippet of the introduction component.\n",
    "print(introduction)\n"
   ]
  },
  {
   "cell_type": "markdown",
   "metadata": {},
   "source": [
    "## Generating Correlation Data\n",
    "\n",
    "We now want to generate the datasets that will go into our vega charts. We don't yet have to worry about rendering these, we'll just define the functions to generate the data."
   ]
  },
  {
   "cell_type": "code",
   "execution_count": 2,
   "metadata": {},
   "outputs": [
    {
     "name": "stdout",
     "output_type": "stream",
     "text": [
      "[[0.37454012 0.03397256]\n",
      " [0.95071431 0.99369625]\n",
      " [0.73199394 0.87335673]\n",
      " [0.59865848 0.31251313]\n",
      " [0.15601864 0.09121347]\n",
      " [0.15599452 0.09198872]\n",
      " [0.05808361 0.08811887]\n",
      " [0.86617615 0.76262552]\n",
      " [0.60111501 0.50662253]\n",
      " [0.70807258 0.45573666]]\n"
     ]
    }
   ],
   "source": [
    "import numpy as np\n",
    "from scipy.special import erfinv, erf\n",
    "\n",
    "def generate_correlated_data_uniform(correlation, num_points, seed=None):\n",
    "    \"\"\"\n",
    "    Generate a dataset with two variables having the specified correlation,\n",
    "    with values bounded between 0 and 1.\n",
    "    Parameters:\n",
    "        correlation (float): Desired correlation coefficient (-1 to 1).\n",
    "        num_points (int): Number of data points to generate.\n",
    "        seed (int, optional): Random seed for reproducibility.\n",
    "    Returns:\n",
    "        np.ndarray: A 2D array of shape (num_points, 2), where each column is a variable.\n",
    "    \"\"\"\n",
    "    if not -1 <= correlation <= 1:\n",
    "        raise ValueError(\"Correlation must be between -1 and 1.\")\n",
    "    if seed is not None:\n",
    "        np.random.seed(seed)\n",
    "    # Generate two independent uniform random variables between 0 and 1\n",
    "    x = np.random.rand(num_points)\n",
    "    z = np.random.rand(num_points)\n",
    "    # Apply inverse transform sampling to convert uniform to normal\n",
    "    x_normal = np.sqrt(2) * erfinv(2 * x - 1)  # Inverse CDF of normal distribution\n",
    "    z_normal = np.sqrt(2) * erfinv(2 * z - 1)\n",
    "    # Combine them using the desired correlation\n",
    "    y_normal = correlation * x_normal + np.sqrt(1 - correlation**2) * z_normal\n",
    "    # Transform back to uniform distribution using normal CDF\n",
    "    x_uniform = 0.5 * (1 + erf(x_normal / np.sqrt(2)))\n",
    "    y_uniform = 0.5 * (1 + erf(y_normal / np.sqrt(2)))\n",
    "    # Stack into a 2D array\n",
    "    data = np.column_stack((x_uniform, y_uniform))\n",
    "    return data\n",
    "\n",
    "# Example of dataset\n",
    "print(generate_correlated_data_uniform(0.6, 10, seed=42))"
   ]
  },
  {
   "cell_type": "markdown",
   "metadata": {},
   "source": [
    "# Vega ScatterPlots and Parallel Coordinate Plots\n",
    "\n",
    "For this study, we need to generate pairs of scatterplots and pairs of parallel coordinate plots. We will create two generalized functions which take in two data frames whose columns are 'X' and 'Y' and whose entries are tuples, indicating the coordinates. These functions will each return a vega-altair chart that will be added as components."
   ]
  },
  {
   "cell_type": "code",
   "execution_count": 3,
   "metadata": {},
   "outputs": [
    {
     "data": {
      "image/png": "[encoded data removed]",
      "text/plain": [
       "alt.HConcatChart(...)"
      ]
     },
     "execution_count": 3,
     "metadata": {
      "image/png": {
       "height": 312,
       "width": 810
      }
     },
     "output_type": "execute_result"
    }
   ],
   "source": [
    "import pandas as pd\n",
    "import altair as alt\n",
    "\n",
    "# Enable png output to save the image.\n",
    "alt.renderers.enable(\"png\")\n",
    "\n",
    "def create_parallel_plot(data1, data2):\n",
    "    data1_melted = data1.reset_index().melt(id_vars='index', var_name='Axis', value_name='Value')\n",
    "    data2_melted = data2.reset_index().melt(id_vars='index', var_name='Axis', value_name='Value')\n",
    "    \n",
    "    # Create the parallel coordinates chart\n",
    "    parallel1 = alt.Chart(data1_melted).mark_line(stroke='grey', strokeWidth=1).encode(\n",
    "        x=alt.X('Axis:O', axis=alt.Axis(labels=False, ticks=False, grid=False, domain=False, title=None, labelPadding=0)),\n",
    "        y=alt.Y('Value:Q', axis=alt.Axis(labels=False, ticks=False, grid=False, domain=False, title=None)),  # Values on the vertical axis\n",
    "        detail='index:N',  # Ensure each line corresponds to a single data row\n",
    "    ).properties(\n",
    "        title=\"\", width=400, height=300\n",
    "    )\n",
    "    \n",
    "    parallel2 = alt.Chart(data2_melted).mark_line(stroke='grey', strokeWidth=1).encode(\n",
    "        x=alt.X('Axis:O', axis=alt.Axis(labels=False, ticks=False, grid=False, domain=False, title=None,)),\n",
    "        y=alt.Y('Value:Q', axis=alt.Axis(labels=False, ticks=False, grid=False, domain=False, title=None)),  # Values on the vertical axis\n",
    "        detail='index:N',  # Ensure each line corresponds to a single data row\n",
    "    ).properties(\n",
    "        title=\"\", width=400, height=300\n",
    "    )\n",
    "    \n",
    "    axis_lines = alt.Chart(pd.DataFrame(\n",
    "        {'Axis': ['X', 'Y'], 'y_start': [0, 0], 'y_end': [1, 1]}\n",
    "    )).mark_rule(stroke='black', strokeWidth=1).encode(\n",
    "        x=alt.X('Axis:O'), y=alt.Y('y_start:Q'), y2='y_end:Q'\n",
    "    )\n",
    "    \n",
    "    parallel1 = parallel1 + axis_lines\n",
    "    parallel2 = parallel2 + axis_lines\n",
    "    \n",
    "    chart = alt.hconcat(\n",
    "        parallel1, parallel2\n",
    "    ).configure_view(\n",
    "        strokeWidth=0, continuousWidth=400, continuousHeight=300, step=50\n",
    "    ).configure_concat(spacing=0)\n",
    "    \n",
    "    return chart\n",
    "    \n",
    "def create_scatter_plot(data1, data2):\n",
    "    # Create Scatter plot 1\n",
    "    scatter1 = alt.Chart(data1).mark_point(fill='black', stroke='black').encode(\n",
    "        x=alt.X('X:Q', axis=alt.Axis( labels=False, ticks=False, grid=False, domain=True, title=None)),\n",
    "        y=alt.Y('Y:Q', axis=alt.Axis( labels=False, ticks=False, grid=False, domain=True, title=None))\n",
    "    ).properties(\n",
    "        title='', width=300, height=300\n",
    "    )\n",
    "    \n",
    "    # Create Scatter plot two\n",
    "    scatter2 = alt.Chart(data2).mark_point(fill='black', stroke='black').encode(\n",
    "        x=alt.X('X:Q', axis=alt.Axis( labels=False, ticks=False, grid=False, domain=True, title=None)),\n",
    "        y=alt.Y('Y:Q', axis=alt.Axis( labels=False, ticks=False, grid=False, domain=True, title=None))\n",
    "    ).properties(\n",
    "        title='', width=300, height=300\n",
    "    )\n",
    "    \n",
    "    chart = alt.hconcat(\n",
    "        scatter1, scatter2\n",
    "    ).configure_view(\n",
    "        strokeWidth=0, continuousWidth=300, continuousHeight=300, step=10               \n",
    "    ).configure_concat(\n",
    "        spacing=100,\n",
    "    )\n",
    "    \n",
    "    return chart\n",
    "\n",
    "# Make some fake test data\n",
    "test_data_1 = pd.DataFrame({'X':[0.1,0.3,0.6], 'Y':[0.3,0.3,0.4]})\n",
    "test_data_2 = pd.DataFrame({'X':[0.1,0.1,0.3], 'Y':[0.4,0.9,0.2]})\n",
    "\n",
    "# Display chart\n",
    "# chart = create_scatter_plot(test_data_1,test_data_2)\n",
    "chart = create_parallel_plot(test_data_1,test_data_2)\n",
    "chart"
   ]
  },
  {
   "cell_type": "markdown",
   "metadata": {},
   "source": [
    "# Generate Vega Spec to combine Generated Data and Plots\n",
    "\n",
    "Now that we have our functions to create the individual chart, we want a function that returns the correct vega spec when given the number of points, the correlation values, and the visualization type ('scatterPlot' or 'parallelPlot'). We'll use the number of points and the pair of correlation values to generate the dataset. Using the visualization type, we'll either return the scatter plot of this data or the parallel coordinates plot. Hover, instead of returning the vega-altair chart, we instead convert the chart to its vega-lite specification, then convert that into the true vega specification.\n"
   ]
  },
  {
   "cell_type": "code",
   "execution_count": 4,
   "metadata": {},
   "outputs": [],
   "source": [
    "import random\n",
    "import pandas as pd\n",
    "import altair as alt\n",
    "import vl_convert as vlc\n",
    "\n",
    "\n",
    "\n",
    "def create_vega_chart(visType, numPoints, corrValues):\n",
    "    random.shuffle(corrValues)\n",
    "    # Convert NumPy array to a DataFrame\n",
    "    data1 = pd.DataFrame(\n",
    "        generate_correlated_data_uniform(corrValues[0], numPoints, seed=42),\n",
    "        columns=['X', 'Y']\n",
    "    )\n",
    "    data2 = pd.DataFrame(\n",
    "        generate_correlated_data_uniform(corrValues[1], numPoints, seed=42),\n",
    "        columns=['X', 'Y']\n",
    "    )\n",
    "    \n",
    "\n",
    "    if visType == 'scatterPlot':\n",
    "        chart = create_scatter_plot(data1, data2)\n",
    "    else:\n",
    "        chart = create_parallel_plot(data1, data2)\n",
    "\n",
    "    vega_lite_spec = chart.to_json()\n",
    "    vega_spec = vlc.vegalite_to_vega(vega_lite_spec, vl_version=\"5.20\")\n",
    "    return vega_spec\n",
    "    \n",
    "\n",
    "my_vega_spec = create_vega_chart('parallelPlot', 20, [0.3,0.9])\n",
    "\n",
    "# We can print the test vega specification above to inspect its contents.\n",
    "\n",
    "# print(my_vega_spec)\n"
   ]
  },
  {
   "cell_type": "markdown",
   "metadata": {},
   "source": [
    "# Creating The Component Function & Interaction Signals for ReVISit Trials\n",
    "\n",
    "The `component_function` is used to transform every component in a given sequence to any new component. If we have a sequence that is the correct _structure_, then we call the `component()` method on that sequence and pass in the desired `component_function`. Any `meta` attributes in the original components are passed in as arguments to the `component_function`. \n",
    "\n",
    "We'll create a component function which takes in the visualization type, the correlation values, and the number of points and returns the correct vega specification component. Additionally, we append signals directly into the vega spec so that we can detect the user's right and left arrow keys. Instead of the user having to choose \"left\" or \"right\" in some drop down, the user will be able to use the left and right arrow keys to pick the chart. We add an additional signal to \"highlight\" the selected chart with a thick blue border. Finally, since we specified \"nextOnEnter\" as \"True\" in the \"uiConfig\", the user will also be able to proceed to the next component by pressing the \"Enter\" key. All of this combined creates a seamless study experience."
   ]
  },
  {
   "cell_type": "code",
   "execution_count": 5,
   "metadata": {},
   "outputs": [],
   "source": [
    "def component_function(visType=None, numPoints=None, corrValues=None):\n",
    "    if(visType is not None and numPoints is not None and corrValues is not None):\n",
    "        vega_spec = create_vega_chart(visType=visType, numPoints=numPoints, corrValues=corrValues)\n",
    "            \n",
    "        # Update signals with new signals for the final vega spec.\n",
    "        vega_spec['config'][\"signals\"] = [\n",
    "            {\n",
    "                \"name\": \"revisitAnswer\",\n",
    "                \"value\": {},\n",
    "                \"on\": [\n",
    "                    {\n",
    "                        \"events\": \"@concat_0_group:click\",\n",
    "                        \"update\": \"{responseId: 'vegaDemoResponse1', response: 'left'}\"\n",
    "                    },\n",
    "                    {\n",
    "                        \"events\": \"@concat_1_group:click\",\n",
    "                        \"update\": \"{responseId: 'vegaDemoResponse1', response: 'right'}\"\n",
    "                    },\n",
    "                    {\n",
    "                        \"events\": {\"source\": \"window\", \"type\": \"keydown\"},\n",
    "                        \"update\": \"event.key === 'ArrowLeft' ? {responseId: 'vegaDemoResponse1', response: 'left'} : event.key === 'ArrowRight' ? {responseId: 'vegaDemoResponse1', response: 'right'} : revisitAnswer\"\n",
    "                    },\n",
    "                ]\n",
    "            }\n",
    "        ]\n",
    "        \n",
    "        # Add signal based bordering\n",
    "        for entry in vega_spec['marks']:\n",
    "            if entry['name'] == 'concat_0_group':\n",
    "                condition = 'left'\n",
    "            else:\n",
    "                condition = 'right'\n",
    "            entry['encode']['update']['stroke'] = {\n",
    "                \"signal\": f\"revisitAnswer.response === '{condition}' ? 'blue' : null\"\n",
    "            },\n",
    "            entry['encode']['update']['strokeWidth'] = {\n",
    "                \"signal\": f\"revisitAnswer.response === '{condition}' ? 3 : 0\"\n",
    "            }\n",
    "        \n",
    "        return rvt.component(\n",
    "            type='vega',\n",
    "            config=vega_spec,\n",
    "            component_name__=f'{visType}-{numPoints}-{round(corrValues[0],1)},{round(corrValues[1],1)}',\n",
    "            response=[\n",
    "                rvt.response(\n",
    "                    id='vegaDemoResponse1',\n",
    "                    prompt='You Selected: ',\n",
    "                    location='sidebar',\n",
    "                    type='reactive',\n",
    "                    required=True\n",
    "                )\n",
    "            ]\n",
    "        )\n",
    "\n",
    "    return rvt.component(\n",
    "        type='questionnaire',\n",
    "        component_name__='blank-component'\n",
    "    )\n",
    "\n",
    "# You can print the output of our component function with some test values.\n",
    "\n",
    "# print(component_function('scatterPlot',20,corrValues=[0.2,0.9]))"
   ]
  },
  {
   "cell_type": "markdown",
   "metadata": {},
   "source": [
    "# Permuting the Final Sequence \n",
    "\n",
    "Here we generate the different combinations of the correlation values that we'd like (every combination of two numbers between 0 and 1 with precision 1). Then, we generate a fixed order sequence and being the permutations over our factors. We first permute over the visualization type, then over the number of points, then over all possible correlation value pairs.\n",
    "\n",
    "When we permute over these factors, the corresponding factored will be added to the `meta` attributes of each component. By the end of these three permutations, we will have components that have 'visType', 'numPoints', and 'corrValues' key-value pairs in their `meta` attribute. Before calling the `component` method, these are all \"filler\" or \"placeholder\" components with no real value aside from their metadata attributes. Once we call the `component` method, each component is passed through the inputted `component_function` which will take the existing metadata as arguments. Thus, by the end of this method chaining, each component will be the correct vega component.\n",
    "\n",
    "After we have finished generating the sequence, we add the entire component block to an a sequence only containing the introduction."
   ]
  },
  {
   "cell_type": "code",
   "execution_count": 6,
   "metadata": {},
   "outputs": [],
   "source": [
    "import itertools\n",
    "\n",
    "# Generate all combinations of two values between 1 and 10\n",
    "combinations = itertools.combinations(range(1, 11), 2)\n",
    "\n",
    "# Create the dataset with values divided by 10\n",
    "dataSet = [{'corrValues': [x / 10, y / 10]} for x, y in combinations]\n",
    "# Create the dataset with values divided by 10\n",
    "\n",
    "\n",
    "main_sequence = rvt.sequence(order='fixed')\n",
    "\n",
    "main_sequence.permute(\n",
    "        factors=[{'visType': 'scatterPlot'}, {'visType': 'parallelCoords'}],\n",
    "        order='latinSquare',\n",
    "    ).permute(\n",
    "        factors=[{'numPoints': 20}, {'numPoints': 100}],\n",
    "        order='fixed',\n",
    "    ).permute(\n",
    "        factors=dataSet,\n",
    "        order='random',\n",
    "    ).component(component_function)\n",
    "    \n",
    "sequence = rvt.sequence(order='fixed',components=[introduction]) + main_sequence\n",
    "\n",
    "study = rvt.studyConfig(\n",
    "    schema=\"https://raw.githubusercontent.com/revisit-studies/study/v2.0.0-rc1/src/parser/StudyConfigSchema.json\",\n",
    "    uiConfig=ui_config,\n",
    "    studyMetadata=study_metadata,\n",
    "    sequence=sequence\n",
    ")\n",
    "\n",
    "# Prints the entire configuration file which is approximately 150,000 lines of JSON\n",
    "# print(study)\n"
   ]
  },
  {
   "cell_type": "markdown",
   "metadata": {},
   "source": [
    "# Using `revisitpy_server` to Prepare Our Widget\n",
    "\n",
    "The `revisitpy` package provides a widget in order to preview our study directly in a Jupyter notebook. We can interact with the study, check that vega signals work, and even create some introductory data ourselves. In order for the widget to work, a local copy of the reVISit must be running on your local computer. If you already have reVISit locally (colloqioully our `study` repo), then all you need to do is navigate to your repository and run `yarn serve`. After this, the widget we create in this jupyter notebook will be useable.\n",
    "\n",
    "A simpler way to achieve the same goal, however is using the `revisitpy_server` Python package. This is a simple python package which already has the most recent reVISit repository built and runs a server locally. After installing `revisitpy_server`, all that is required is the following:"
   ]
  },
  {
   "cell_type": "code",
   "execution_count": 7,
   "metadata": {},
   "outputs": [
    {
     "name": "stdout",
     "output_type": "stream",
     "text": [
      "Server is running in the background at http://localhost:8080\n"
     ]
    }
   ],
   "source": [
    "import revisitpy_server as rs\n",
    "process = rs.serve()"
   ]
  },
  {
   "cell_type": "markdown",
   "metadata": {},
   "source": [
    "# The Widget\n",
    "\n",
    "Now that your server is running, we create the widget with the configuration file we created above. When calling the widget, we are assuming that the assets referenced in the configuration file are relative to this notebook. The widget then copies these static assets to the appropriate directory. Since we're currently using the `revisitpy_server` package, you'll see that they copied into the assets of the local virtual environment `revisitpy_server` package."
   ]
  },
  {
   "cell_type": "code",
   "execution_count": 170,
   "metadata": {},
   "outputs": [
    {
     "name": "stdout",
     "output_type": "stream",
     "text": [
      "Copying file from ./assets/introduction.md to /Users/bbollen23/revisit-py-examples/.venv/lib/python3.12/site-packages/revisitpy_server/static/__revisit-widget/assets/introduction.md\n",
      "Copying file from ./assets/revisitLogoSquare.svg to /Users/bbollen23/revisit-py-examples/.venv/lib/python3.12/site-packages/revisitpy_server/static/__revisit-widget/assets/revisitLogoSquare.svg\n"
     ]
    }
   ],
   "source": [
    "w = rvt.widget(study, server=True)\n",
    "\n",
    "# In your own Jupyter notebook, calling `w` will now display the widget in a fully interactive manner.\n",
    "# w"
   ]
  },
  {
   "cell_type": "markdown",
   "metadata": {},
   "source": [
    "# Optional: Data Collection\n",
    "\n",
    "Now that we have the widget running, we can check out some sample data that would be generated from a user. Start by going through a small portion of the study. Once you've gone through the desired number of components inside the widget, navigate to the analysis dashboard using the 'Analysis' tab in the upper left-hand corner. Here you'll see individual participants and the data that they've generated. \n",
    "\n",
    "From here, we can export this data back into our Jupyter notebook. Start by clicking the \"Download as Tidy CSV\" on the right-hand side above the table. Here you'll be shown a preview of the CSV file with some additional options to truncate the data. In the bottom right-hand corner, you'll see a button with the Python icon. Clicking on this button will send the Tidy CSV back to the Jupyter notebook. Once the button is clicked, we can preview the data like so:"
   ]
  },
  {
   "cell_type": "code",
   "execution_count": null,
   "metadata": {},
   "outputs": [],
   "source": [
    "w.get_df()"
   ]
  },
  {
   "cell_type": "markdown",
   "metadata": {},
   "source": [
    "# Optional: Terminate the server\n",
    "\n",
    "Closing the notebook will automatically terminate the server. If you'd rather do this manually, you can do the following."
   ]
  },
  {
   "cell_type": "code",
   "execution_count": 21,
   "metadata": {},
   "outputs": [],
   "source": [
    "process.terminate()"
   ]
  }
 ],
 "metadata": {
  "kernelspec": {
   "display_name": ".venv",
   "language": "python",
   "name": "python3"
  },
  "language_info": {
   "codemirror_mode": {
    "name": "ipython",
    "version": 3
   },
   "file_extension": ".py",
   "mimetype": "text/x-python",
   "name": "python",
   "nbconvert_exporter": "python",
   "pygments_lexer": "ipython3",
   "version": "3.12.5"
  }
 },
 "nbformat": 4,
 "nbformat_minor": 4
}
